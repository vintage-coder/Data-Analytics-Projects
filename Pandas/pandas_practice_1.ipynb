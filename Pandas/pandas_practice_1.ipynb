{
 "cells": [
  {
   "cell_type": "code",
   "execution_count": 1,
   "id": "63b1df38",
   "metadata": {},
   "outputs": [],
   "source": [
    "import numpy as np\n",
    "import pandas as pd\n",
    "import matplotlib.pyplot as plt"
   ]
  },
  {
   "cell_type": "code",
   "execution_count": 2,
   "id": "551f4b63",
   "metadata": {},
   "outputs": [
    {
     "data": {
      "text/plain": [
       "(-1.11637372803214,\n",
       " 1.1007797090739162,\n",
       " -1.1163737124158366,\n",
       " 1.1007797083302826)"
      ]
     },
     "execution_count": 2,
     "metadata": {},
     "output_type": "execute_result"
    },
    {
     "data": {
      "image/png": "[encoded data removed]",
      "text/plain": [
       "<Figure size 432x288 with 1 Axes>"
      ]
     },
     "metadata": {},
     "output_type": "display_data"
    }
   ],
   "source": [
    "labels=['Nokia','Samsung','Apple','Lumia']\n",
    "\n",
    "values=[10,30,45,15]\n",
    "\n",
    "colors=['Yellow','green','red','blue']\n",
    "\n",
    "plt.pie(values,labels=labels,colors=colors)\n",
    "\n",
    "plt.axis('equal')"
   ]
  },
  {
   "cell_type": "code",
   "execution_count": 11,
   "id": "b2a27361",
   "metadata": {},
   "outputs": [],
   "source": [
    "val=list(range(5))\n",
    "\n",
    "value=np.array(val)"
   ]
  },
  {
   "cell_type": "code",
   "execution_count": 12,
   "id": "cc52d811",
   "metadata": {},
   "outputs": [
    {
     "name": "stdout",
     "output_type": "stream",
     "text": [
      "[0, 1, 2, 3, 4]\n",
      "0    0\n",
      "1    1\n",
      "2    2\n",
      "3    3\n",
      "4    4\n",
      "dtype: int32\n"
     ]
    }
   ],
   "source": [
    "print(val)\n",
    "\n",
    "\n",
    "data=pd.Series(value)\n",
    "\n",
    "print(data)\n"
   ]
  },
  {
   "cell_type": "code",
   "execution_count": null,
   "id": "b7ee8545",
   "metadata": {},
   "outputs": [],
   "source": [
    "# password Generator"
   ]
  },
  {
   "cell_type": "code",
   "execution_count": null,
   "id": "d04169e2",
   "metadata": {},
   "outputs": [],
   "source": []
  },
  {
   "cell_type": "code",
   "execution_count": null,
   "id": "645b2022",
   "metadata": {},
   "outputs": [],
   "source": []
  }
 ],
 "metadata": {
  "kernelspec": {
   "display_name": "Python 3 (ipykernel)",
   "language": "python",
   "name": "python3"
  },
  "language_info": {
   "codemirror_mode": {
    "name": "ipython",
    "version": 3
   },
   "file_extension": ".py",
   "mimetype": "text/x-python",
   "name": "python",
   "nbconvert_exporter": "python",
   "pygments_lexer": "ipython3",
   "version": "3.9.7"
  }
 },
 "nbformat": 4,
 "nbformat_minor": 5
}
