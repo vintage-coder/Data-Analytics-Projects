{
 "cells": [
  {
   "cell_type": "code",
   "execution_count": 1,
   "id": "36c887a6",
   "metadata": {},
   "outputs": [],
   "source": [
    "import numpy as np"
   ]
  },
  {
   "cell_type": "code",
   "execution_count": 8,
   "id": "9c5fba1a",
   "metadata": {},
   "outputs": [
    {
     "name": "stdout",
     "output_type": "stream",
     "text": [
      "Hello Numpy\n",
      "[0 1 2 3 4]\n",
      "int32\n",
      "1\n",
      "5\n",
      "(5,)\n",
      "[[0 1 2 3 4]\n",
      " [5 4 3 2 1]]\n",
      "int32\n",
      "2\n",
      "10\n",
      "(2, 5)\n",
      "[[[0 1 2 3 4]\n",
      "  [5 4 3 2 1]]\n",
      "\n",
      " [[0 1 2 3 4]\n",
      "  [5 4 3 2 1]]]\n",
      "int32\n",
      "3\n",
      "20\n",
      "(2, 2, 5)\n"
     ]
    }
   ],
   "source": [
    "print('Hello Numpy')\n",
    "\n",
    "a=np.array(range(5))\n",
    "\n",
    "print(a)\n",
    "\n",
    "print(a.dtype)\n",
    "\n",
    "print(a.ndim)\n",
    "\n",
    "print(a.size)\n",
    "\n",
    "print(a.shape)\n",
    "\n",
    "# 2-dimentional array\n",
    "\n",
    "b=np.array([range(5),range(5,0,-1)])\n",
    "\n",
    "print(b)\n",
    "\n",
    "print(b.dtype)\n",
    "\n",
    "print(b.ndim)\n",
    "\n",
    "print(b.size)\n",
    "\n",
    "print(b.shape)\n",
    "\n",
    "# 3- dimentional array\n",
    "c=np.array([[range(5),range(5,0,-1)],[range(5),range(5,0,-1)]])\n",
    "\n",
    "print(c)\n",
    "\n",
    "print(c.dtype)\n",
    "\n",
    "print(c.ndim)\n",
    "\n",
    "print(c.size)\n",
    "\n",
    "print(c.shape)\n",
    "\n"
   ]
  },
  {
   "cell_type": "code",
   "execution_count": 9,
   "id": "553388bb",
   "metadata": {},
   "outputs": [
    {
     "name": "stdout",
     "output_type": "stream",
     "text": [
      "[[0.+0.j 0.+0.j 0.+0.j]\n",
      " [0.+0.j 0.+0.j 0.+0.j]\n",
      " [0.+0.j 0.+0.j 0.+0.j]]\n"
     ]
    }
   ],
   "source": [
    "# intrinsic creation of arrays\n",
    "\n",
    "d=np.zeros((3,3),dtype=complex)\n",
    "\n",
    "print(d)"
   ]
  },
  {
   "cell_type": "code",
   "execution_count": 11,
   "id": "85fe3a5c",
   "metadata": {},
   "outputs": [
    {
     "name": "stdout",
     "output_type": "stream",
     "text": [
      "[[1. 1. 1.]\n",
      " [1. 1. 1.]\n",
      " [1. 1. 1.]]\n"
     ]
    }
   ],
   "source": [
    "e=np.ones((3,3),dtype=float)\n",
    "\n",
    "print(e)"
   ]
  },
  {
   "cell_type": "code",
   "execution_count": 19,
   "id": "7753ed19",
   "metadata": {},
   "outputs": [
    {
     "name": "stdout",
     "output_type": "stream",
     "text": [
      "[[0.+0.j 1.+0.j]\n",
      " [2.+0.j 3.+0.j]\n",
      " [4.+0.j 5.+0.j]]\n",
      "2\n"
     ]
    }
   ],
   "source": [
    "f=np.array(np.arange(0,6).reshape(3,2),dtype=complex)\n",
    "\n",
    "print(f)\n",
    "\n",
    "print(f.ndim)"
   ]
  },
  {
   "cell_type": "code",
   "execution_count": 16,
   "id": "2935cb46",
   "metadata": {},
   "outputs": [
    {
     "data": {
      "text/plain": [
       "array([[ 0,  1],\n",
       "       [ 2,  3],\n",
       "       [ 4,  5],\n",
       "       [ 6,  7],\n",
       "       [ 8,  9],\n",
       "       [10, 11],\n",
       "       [12, 13]])"
      ]
     },
     "execution_count": 16,
     "metadata": {},
     "output_type": "execute_result"
    }
   ],
   "source": [
    "np.arange(0,14).reshape(7,2)"
   ]
  },
  {
   "cell_type": "code",
   "execution_count": 22,
   "id": "740da648",
   "metadata": {},
   "outputs": [
    {
     "data": {
      "text/plain": [
       "array([ 0.        ,  1.11111111,  2.22222222,  3.33333333,  4.44444444,\n",
       "        5.55555556,  6.66666667,  7.77777778,  8.88888889, 10.        ])"
      ]
     },
     "execution_count": 22,
     "metadata": {},
     "output_type": "execute_result"
    }
   ],
   "source": [
    "#linspecing\n",
    "\n",
    "np.linspace(0,10,10)"
   ]
  },
  {
   "cell_type": "code",
   "execution_count": 31,
   "id": "99783cb1",
   "metadata": {},
   "outputs": [
    {
     "name": "stdout",
     "output_type": "stream",
     "text": [
      "[0.8070434  0.78398988 0.09297565 0.20298822 0.45253509 0.81381722\n",
      " 0.95055635 0.15780358 0.41904436 0.58262913]\n"
     ]
    },
    {
     "data": {
      "text/plain": [
       "array([[0.61585057, 0.64690535, 0.6690635 , 0.46684269, 0.40419999],\n",
       "       [0.05338823, 0.17171296, 0.5852445 , 0.21241634, 0.05402084],\n",
       "       [0.19610853, 0.95878923, 0.08306742, 0.03522876, 0.6340955 ],\n",
       "       [0.5104232 , 0.02913268, 0.33599314, 0.01073041, 0.582835  ],\n",
       "       [0.29042821, 0.36373112, 0.71358645, 0.32520416, 0.20131832]])"
      ]
     },
     "execution_count": 31,
     "metadata": {},
     "output_type": "execute_result"
    }
   ],
   "source": [
    "# random funcation\n",
    "\n",
    "print(np.random.random(10))\n",
    "\n",
    "np.random.random((5,5))"
   ]
  },
  {
   "cell_type": "code",
   "execution_count": 39,
   "id": "8277c259",
   "metadata": {},
   "outputs": [
    {
     "name": "stdout",
     "output_type": "stream",
     "text": [
      "[ 3  4  5  6  7  8  9 10 11 12 13 14]\n",
      "[ 7  8  9 10 11 12 13 14 15 16 17 18]\n",
      "[ 2  3  4  5  6  7  8  9 10 11 12 13]\n",
      "[15 20 25 30 35 40 45 50 55 60 65 70]\n",
      "[1.         1.33333333 1.66666667 2.         2.33333333 2.66666667\n",
      " 3.         3.33333333 3.66666667 4.         4.33333333 4.66666667]\n",
      "[0 1 2 0 1 2 0 1 2 0 1 2]\n",
      "[  0.42336002  -3.02720998  -4.79462137  -1.67649299   4.59890619\n",
      "   7.91486597   3.70906637  -5.44021111 -10.99989227  -6.43887502\n",
      "   5.46217148  13.86850298]\n"
     ]
    }
   ],
   "source": [
    "# arithematic operations\n",
    "f=np.arange(3,15)\n",
    "\n",
    "print(f)\n",
    "\n",
    "print(f+4)\n",
    "\n",
    "print(f-1)\n",
    "\n",
    "print(f*5)\n",
    "\n",
    "print(f/3)\n",
    "\n",
    "print(f%3)\n",
    "\n",
    "print(f*np.sin(np.arange(3,15)))\n"
   ]
  },
  {
   "cell_type": "code",
   "execution_count": 54,
   "id": "dfc0c215",
   "metadata": {},
   "outputs": [
    {
     "name": "stdout",
     "output_type": "stream",
     "text": [
      "[[3. 4. 5. 6. 7. 8.]\n",
      " [8. 7. 6. 5. 4. 3.]]\n",
      "[3. 4. 5. 6. 7. 8.]\n",
      "[8. 7. 6. 5. 4. 3.]\n",
      "3.0\n",
      "4.0\n",
      "5.0\n",
      "6.0\n",
      "7.0\n",
      "8.0\n",
      "8.0\n",
      "7.0\n",
      "6.0\n",
      "5.0\n",
      "4.0\n",
      "3.0\n"
     ]
    }
   ],
   "source": [
    "g=np.array([np.arange(3,9),np.arange(8,2,-1)],dtype=float)\n",
    "print(g)\n",
    "\n",
    "for row in g:\n",
    "    print(row)\n",
    "\n",
    "for row in g.flat:\n",
    "    print(row)"
   ]
  },
  {
   "cell_type": "code",
   "execution_count": 62,
   "id": "deb8a0ba",
   "metadata": {},
   "outputs": [
    {
     "name": "stdout",
     "output_type": "stream",
     "text": [
      "[[0 1 2]\n",
      " [3 4 5]\n",
      " [6 7 8]]\n",
      "[[1 1 1]\n",
      " [1 1 1]\n",
      " [1 1 1]]\n",
      "[[ 3  3  3]\n",
      " [12 12 12]\n",
      " [21 21 21]]\n",
      "[[ 3  3  3]\n",
      " [12 12 12]\n",
      " [21 21 21]]\n",
      "[[ 9 12 15]\n",
      " [ 9 12 15]\n",
      " [ 9 12 15]]\n"
     ]
    }
   ],
   "source": [
    "# Matrix product\n",
    "\n",
    "A=np.arange(0,9).reshape(3,3)\n",
    "\n",
    "print(A)\n",
    "\n",
    "B=np.ones((3,3),dtype=int)\n",
    "\n",
    "print(B)\n",
    "\n",
    "print(np.dot(A,B))\n",
    "\n",
    "print(A.dot(B))\n",
    "\n",
    "print(B.dot(A))"
   ]
  },
  {
   "cell_type": "code",
   "execution_count": 65,
   "id": "4983a3c2",
   "metadata": {},
   "outputs": [
    {
     "name": "stdout",
     "output_type": "stream",
     "text": [
      "0\n",
      "4\n",
      "2.0\n",
      "1.4142135623730951\n",
      "10\n"
     ]
    }
   ],
   "source": [
    "print(a.min())\n",
    "print(a.max())\n",
    "print(a.mean())\n",
    "print(a.std())\n",
    "print(a.sum())"
   ]
  },
  {
   "cell_type": "code",
   "execution_count": 90,
   "id": "fd5b7947",
   "metadata": {},
   "outputs": [
    {
     "name": "stdout",
     "output_type": "stream",
     "text": [
      "[ 3  4  5  6  7  8  9 10 11 12 13 14 15 16 17 18 19]\n",
      "19\n",
      "4\n",
      "[15 16 17 18]\n",
      "[ 4  5  6  7  8  9 10 11 12 13 14 15 16 17 18]\n",
      "[ 3  4  5  6  7  8  9 10 11 12 13 14 15 16 17 18]\n",
      "[ 3  4  5  6  7  8  9 10 11 12 13 14 15 16 17 18 19]\n",
      "[ 3  4  5  6  7  8  9 10 11 12 13 14 15 16 17 18 19]\n",
      "[19 18 17 16 15 14 13 12 11 10  9  8  7  6  5  4  3]\n",
      "[19 16 13 10  7  4]\n",
      "[ 5  7  9 11 13 15 17]\n",
      "[5 7 9]\n",
      "[10 12 14 16]\n"
     ]
    }
   ],
   "source": [
    "#Slicing\n",
    "h=np.arange(3,20)\n",
    "print(h)\n",
    "print(h[-1])\n",
    "print(h[1])\n",
    "print(h[-5:-1])\n",
    "print(h[1:-1])\n",
    "print(h[:-1])\n",
    "print(h[:])\n",
    "print(h[::])\n",
    "print(h[::-1])\n",
    "print(h[::-3])\n",
    "print(h[2:15:2])\n",
    "print(h[2:-10:2])\n",
    "print(h[-10:15:2])"
   ]
  },
  {
   "cell_type": "code",
   "execution_count": 92,
   "id": "a18e4f27",
   "metadata": {},
   "outputs": [
    {
     "name": "stdout",
     "output_type": "stream",
     "text": [
      "[ 4 19  3]\n",
      "[[0 1 2]\n",
      " [3 4 5]\n",
      " [6 7 8]]\n"
     ]
    }
   ],
   "source": [
    "print(h[[1,-1,0]])\n",
    "print(A)"
   ]
  },
  {
   "cell_type": "code",
   "execution_count": 101,
   "id": "0c6d2847",
   "metadata": {},
   "outputs": [
    {
     "name": "stdout",
     "output_type": "stream",
     "text": [
      "7\n",
      "8\n",
      "2\n",
      "[[4 5]\n",
      " [7 8]]\n",
      "[7 8]\n",
      "[4 5]\n",
      "[[8 7 6]\n",
      " [5 4 3]\n",
      " [2 1 0]]\n",
      "[[6 7 8]\n",
      " [3 4 5]\n",
      " [0 1 2]]\n"
     ]
    }
   ],
   "source": [
    "print(A[2,1])\n",
    "print(A[2,2])\n",
    "print(A[0,2])\n",
    "print(A[1:,1:])\n",
    "print(A[2,1:])\n",
    "print(A[1,1:])\n",
    "print(A[::-1,::-1])\n",
    "print(A[::-1,:])"
   ]
  },
  {
   "cell_type": "code",
   "execution_count": 103,
   "id": "f2a73ae3",
   "metadata": {},
   "outputs": [
    {
     "name": "stdout",
     "output_type": "stream",
     "text": [
      "[[0 1 2]\n",
      " [3 4 5]\n",
      " [6 7 8]]\n"
     ]
    },
    {
     "data": {
      "text/plain": [
       "array([[ True,  True,  True],\n",
       "       [False, False, False],\n",
       "       [False, False, False]])"
      ]
     },
     "execution_count": 103,
     "metadata": {},
     "output_type": "execute_result"
    }
   ],
   "source": [
    "\n",
    "print(A)\n",
    "A<3"
   ]
  },
  {
   "cell_type": "code",
   "execution_count": null,
   "id": "eab5c31b",
   "metadata": {},
   "outputs": [],
   "source": [
    "\n"
   ]
  },
  {
   "cell_type": "code",
   "execution_count": null,
   "id": "ee06fcb7",
   "metadata": {},
   "outputs": [],
   "source": []
  },
  {
   "cell_type": "code",
   "execution_count": null,
   "id": "45b4df29",
   "metadata": {},
   "outputs": [],
   "source": []
  },
  {
   "cell_type": "code",
   "execution_count": null,
   "id": "6e8bf9ab",
   "metadata": {},
   "outputs": [],
   "source": []
  }
 ],
 "metadata": {
  "kernelspec": {
   "display_name": "Python 3 (ipykernel)",
   "language": "python",
   "name": "python3"
  },
  "language_info": {
   "codemirror_mode": {
    "name": "ipython",
    "version": 3
   },
   "file_extension": ".py",
   "mimetype": "text/x-python",
   "name": "python",
   "nbconvert_exporter": "python",
   "pygments_lexer": "ipython3",
   "version": "3.9.7"
  }
 },
 "nbformat": 4,
 "nbformat_minor": 5
}
